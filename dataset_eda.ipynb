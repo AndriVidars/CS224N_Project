{
 "cells": [
  {
   "cell_type": "code",
   "execution_count": 2,
   "metadata": {},
   "outputs": [],
   "source": [
    "import csv\n",
    "from collections import Counter\n",
    "import pickle"
   ]
  },
  {
   "cell_type": "code",
   "execution_count": 3,
   "metadata": {},
   "outputs": [],
   "source": [
    "def read_sentiment_train(filename):\n",
    "    data = []\n",
    "    with open(filename, 'r') as fp:\n",
    "        for record in csv.DictReader(fp,delimiter = '\\t'):\n",
    "            sent = record['sentence'].lower().strip()\n",
    "            sent_id = record['id'].lower().strip()\n",
    "            label = int(record['sentiment'].strip())\n",
    "            data.append((sent, label,sent_id))\n",
    "    return data"
   ]
  },
  {
   "cell_type": "code",
   "execution_count": 4,
   "metadata": {},
   "outputs": [],
   "source": [
    "file = 'data/ids-sst-train.csv'\n",
    "train_data = read_sentiment_train(file)"
   ]
  },
  {
   "cell_type": "code",
   "execution_count": 5,
   "metadata": {},
   "outputs": [],
   "source": [
    "labels = [x[1] for x in train_data]\n",
    "sents = [x[0] for x in train_data]"
   ]
  },
  {
   "cell_type": "code",
   "execution_count": 6,
   "metadata": {},
   "outputs": [
    {
     "data": {
      "text/plain": [
       "Counter({3: 2322, 4: 1288, 2: 1624, 1: 2218, 0: 1092})"
      ]
     },
     "execution_count": 6,
     "metadata": {},
     "output_type": "execute_result"
    }
   ],
   "source": [
    "label_cnt = Counter(labels)\n",
    "label_cnt"
   ]
  },
  {
   "cell_type": "code",
   "execution_count": 7,
   "metadata": {},
   "outputs": [
    {
     "data": {
      "text/plain": [
       "'singer\\\\/composer bryan adams contributes a slew of songs -- a few potential hits , a few more simply intrusive to the story -- but the whole package certainly captures the intended , er , spirit of the piece .'"
      ]
     },
     "execution_count": 7,
     "metadata": {},
     "output_type": "execute_result"
    }
   ],
   "source": [
    "bla = sents[2]\n",
    "bla.strip()"
   ]
  },
  {
   "cell_type": "code",
   "execution_count": 8,
   "metadata": {},
   "outputs": [
    {
     "data": {
      "text/plain": [
       "283"
      ]
     },
     "execution_count": 8,
     "metadata": {},
     "output_type": "execute_result"
    }
   ],
   "source": [
    "max_sen_len = max([len(x) for x in sents])\n",
    "max_sen_len"
   ]
  },
  {
   "cell_type": "code",
   "execution_count": 15,
   "metadata": {},
   "outputs": [],
   "source": [
    "\n",
    "\n",
    "with open('data/ids-sst-train-aug_10_5.pkl', 'rb') as f:\n",
    "        aug_2 = pickle.load(f)"
   ]
  },
  {
   "cell_type": "code",
   "execution_count": 16,
   "metadata": {},
   "outputs": [
    {
     "data": {
      "text/plain": [
       "[('a movie that the less charitable might describe as a castrated cross between highlander and lolita .',\n",
       "  1,\n",
       "  ['the movie is a cross between highlander and lolita.',\n",
       "   'a sluggish, clumsy and unimaginative',\n",
       "   'a sluggish, clumsy and utterly forget',\n",
       "   \"it's a shame that the film isn't as good as it\",\n",
       "   \"the movie is a cross between highlander and lolita, and it '\"]),\n",
       " ('if all of eight legged freaks was as entertaining as the final hour , i would have no problem giving it an unqualified recommendation .',\n",
       "  2,\n",
       "  [\"eight legged freaks isn't perfect, but it's\",\n",
       "   \"eight legged freaks isn't a bad movie, but it\",\n",
       "   'the final hour of eight legged freaks is the best part of the movie',\n",
       "   'the final hour of eight legged freaks is the best part of the film',\n",
       "   \"it's a shame that eight legged freaks is so uneven\"]),\n",
       " (\"the movie 's heavy-handed screenplay navigates a fast fade into pomposity and pretentiousness .\",\n",
       "  2,\n",
       "  [\"'s a snore.\",\n",
       "   \"the screenplay's heavy-handedness\",\n",
       "   \"with a screenplay that's as heavy-handed as its title\",\n",
       "   \"'s a snore\",\n",
       "   \"with a screenplay that's as heavy-handed as its characters\"]),\n",
       " (\"translation : ` we do n't need to try very hard . '\",\n",
       "  1,\n",
       "  [\"we don't need to try very hard\",\n",
       "   \"we don't need to try very hard.\",\n",
       "   \"it's a slapstick comedy that tries too hard.\",\n",
       "   \"a slapstick comedy that isn't very funny\",\n",
       "   \"it's a slapstick comedy that tries too hard to be\"]),\n",
       " (\"there 's something to be said for a studio-produced film that never bothers to hand viewers a suitcase full of easy answers .\",\n",
       "  3,\n",
       "  [\"there's something to be said for a studio-produced film that never\",\n",
       "   \"there's something to be said for a studio-produced film\",\n",
       "   'a spooky, suspenseful thriller',\n",
       "   \"it's refreshing to see a studio-produced film that never bothers to hand\",\n",
       "   \"a spooky, suspenseful thriller that's surprisingly\"]),\n",
       " ('do we really need another film that praises female self-sacrifice ?',\n",
       "  1,\n",
       "  ['do we really need another film that praises female self-sacrifice',\n",
       "   'do we really need another film about female self-sacrifice',\n",
       "   'a sappy, cliche-ridden melodrama',\n",
       "   'a sappy, cliche-ridden drama',\n",
       "   'does the world really need another film that praises female self sacrifice']),\n",
       " ('surprisingly powerful and universal .',\n",
       "  4,\n",
       "  ['a surprisingly powerful and universal story',\n",
       "   'a surprisingly powerful and universal film',\n",
       "   \"it's a powerful and universal story.\",\n",
       "   \"it's a powerful and universal story\",\n",
       "   \"this is a movie that's surprisingly powerful and universal.\"]),\n",
       " (\"one of the greatest films i 've ever seen .\",\n",
       "  4,\n",
       "  [\"one of the greatest films i've ever seen\",\n",
       "   'this is one of the greatest films ever made.',\n",
       "   'this is one of the best movies ever made.',\n",
       "   \"one of the greatest films i've seen\",\n",
       "   'a masterpiece']),\n",
       " ('-- but certainly hard to hate .',\n",
       "  3,\n",
       "  [\"it's hard to love --\",\n",
       "   'hard to love',\n",
       "   'hard to love --',\n",
       "   \"it's hard to love -- but certainly hard not to hate\",\n",
       "   'is hard to love --']),\n",
       " ('true to its title , it traps audiences in a series of relentlessly nasty situations that we would pay a considerable ransom not to be looking at .',\n",
       "  1,\n",
       "  [\"a snuff film that's too nasty to be funny\",\n",
       "   \"it's a snuff film that makes you want to vomit\",\n",
       "   \"in the end,  hostage '' is a sour\",\n",
       "   \"in the end,  hostage '' is a sour disappointment\",\n",
       "   \"it's a snuff film\"])]"
      ]
     },
     "execution_count": 16,
     "metadata": {},
     "output_type": "execute_result"
    }
   ],
   "source": [
    "aug_2 # cfimdb"
   ]
  },
  {
   "cell_type": "code",
   "execution_count": null,
   "metadata": {},
   "outputs": [
    {
     "data": {
      "text/plain": [
       "[(\"it shows that some studios firmly believe that people have lost the ability to think and will forgive any shoddy product as long as there 's a little girl-on-girl action .\",\n",
       "  0,\n",
       "  [\"this is the kind of movie that makes you wonder why anyone would ever make a movie like this in the first place.. if you're looking for sex and wit, you might want to look elsewhere...\",\n",
       "   \"the sexy action sequences are a mixed bag and the story isn't much better.. but it's still worth seeing for the eye candy\",\n",
       "   \"it's a shame that the studios are so willing to sacrifice quality for the sake of sex appeal, but it is what it seems to be\",\n",
       "   \"a sexy, raunchy teen flick that'sn't even remotely funny.. if you eat crow\",\n",
       "   \"a sloppy, clumsy and utterly pointless teen erotica flick.. ''  twilight : break the spell!...\"]),\n",
       " ('a movie that feels like the pilot episode of a new teen-targeted action tv series .',\n",
       "  2,\n",
       "  [\"a slick, cynical teen thriller that'sn't quite as enthralling as it thinks it is\",\n",
       "   \"the premise is a rip-off of  the matrix '', but the execution is so amateurish that it smacks of the first episode of that show.\",\n",
       "   \"this is the kind of movie that makes you wonder if the director is trying to make a point, or he's just trying too hard to be hip.\",\n",
       "   \"a teen-targeted action tv series.. it's slick, but it isn ;  in't gonna lie... if you re ten years old & ndash : you might as well be watching\",\n",
       "   \"it's a shame that the film is so uninvolving and the characters so flat.. it feels like the pilot episode of...\"]),\n",
       " ('each story is built on a potentially interesting idea , but the first two are ruined by amateurish writing and acting , while the third feels limited by its short running time .',\n",
       "  1,\n",
       "  [\"a sloppy, clumsy mash-up of three short films that's hardly worth the effort to sit through\",\n",
       "   \"three stories that aren't quite as good as they could have been.. a sloppy, unfocused mess that's hardly worth the time it takes to watch it\",\n",
       "   \"this is the kind of movie that makes you wish you could go back to bed and never wake up again.. and that's saying something, because it ain t gonna happen\",\n",
       "   \"a mediocre collection of three short stories that's too short to be interesting and too long to really be short.. if you re looking for something to watch while you wait for  the king s speech,... i d recommend catching tv instead\",\n",
       "   \"the premise is interesting but the execution is abysmal..'sn't much to recommend this, but it carries  scream! : the movie... if you can t stand the thought of waking up in the morning.... oh i m sorry - uhh\"]),\n",
       " (\"it 's quite diverting nonsense .\",\n",
       "  1,\n",
       "  [\"a slapstick comedy that's surprisingly funny\",\n",
       "   \"the premise is a rip-off of the old  saturday night live '', but the execution is so clumsy that it hardly matters.\",\n",
       "   'this is the kind of movie that makes you want to go to the movies and see it again.',\n",
       "   \"it's a fun, if not particularly original premise.\",\n",
       "   \"a surprisingly good time for the most part.. it has its share of laughs, and i'm sure it will have you in stitches if you re in the right\"]),\n",
       " ('has all the scenic appeal of a cesspool .',\n",
       "  0,\n",
       "  [\"it's a shame that the film is so ugly.\",\n",
       "   'a sour, cynical satire',\n",
       "   \"the film is a mess, and the acting is so wooden that it's hardly worth watching.\",\n",
       "   \"has all the scenic appeal of a cesspool.. '\",\n",
       "   \"a dreary and uninspiring film that isn't even terribly funny\"])]"
      ]
     },
     "execution_count": 15,
     "metadata": {},
     "output_type": "execute_result"
    }
   ],
   "source": [
    "aug_2 #sst"
   ]
  }
 ],
 "metadata": {
  "kernelspec": {
   "display_name": "cs224n-gpu",
   "language": "python",
   "name": "python3"
  },
  "language_info": {
   "codemirror_mode": {
    "name": "ipython",
    "version": 3
   },
   "file_extension": ".py",
   "mimetype": "text/x-python",
   "name": "python",
   "nbconvert_exporter": "python",
   "pygments_lexer": "ipython3",
   "version": "3.9.18"
  }
 },
 "nbformat": 4,
 "nbformat_minor": 2
}
