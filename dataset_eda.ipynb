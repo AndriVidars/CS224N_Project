{
 "cells": [
  {
   "cell_type": "code",
   "execution_count": 2,
   "metadata": {},
   "outputs": [],
   "source": [
    "import csv\n",
    "from collections import Counter\n",
    "import pickle"
   ]
  },
  {
   "cell_type": "code",
   "execution_count": 3,
   "metadata": {},
   "outputs": [],
   "source": [
    "def read_sentiment_train(filename):\n",
    "    data = []\n",
    "    with open(filename, 'r') as fp:\n",
    "        for record in csv.DictReader(fp,delimiter = '\\t'):\n",
    "            sent = record['sentence'].lower().strip()\n",
    "            sent_id = record['id'].lower().strip()\n",
    "            label = int(record['sentiment'].strip())\n",
    "            data.append((sent, label,sent_id))\n",
    "    return data"
   ]
  },
  {
   "cell_type": "code",
   "execution_count": 4,
   "metadata": {},
   "outputs": [],
   "source": [
    "file = 'data/ids-sst-train.csv'\n",
    "train_data = read_sentiment_train(file)"
   ]
  },
  {
   "cell_type": "code",
   "execution_count": 5,
   "metadata": {},
   "outputs": [],
   "source": [
    "labels = [x[1] for x in train_data]\n",
    "sents = [x[0] for x in train_data]"
   ]
  },
  {
   "cell_type": "code",
   "execution_count": 6,
   "metadata": {},
   "outputs": [
    {
     "data": {
      "text/plain": [
       "Counter({3: 2322, 4: 1288, 2: 1624, 1: 2218, 0: 1092})"
      ]
     },
     "execution_count": 6,
     "metadata": {},
     "output_type": "execute_result"
    }
   ],
   "source": [
    "label_cnt = Counter(labels)\n",
    "label_cnt"
   ]
  },
  {
   "cell_type": "code",
   "execution_count": 7,
   "metadata": {},
   "outputs": [
    {
     "data": {
      "text/plain": [
       "'singer\\\\/composer bryan adams contributes a slew of songs -- a few potential hits , a few more simply intrusive to the story -- but the whole package certainly captures the intended , er , spirit of the piece .'"
      ]
     },
     "execution_count": 7,
     "metadata": {},
     "output_type": "execute_result"
    }
   ],
   "source": [
    "bla = sents[2]\n",
    "bla.strip()"
   ]
  },
  {
   "cell_type": "code",
   "execution_count": null,
   "metadata": {},
   "outputs": [],
   "source": []
  },
  {
   "cell_type": "code",
   "execution_count": 8,
   "metadata": {},
   "outputs": [
    {
     "data": {
      "text/plain": [
       "283"
      ]
     },
     "execution_count": 8,
     "metadata": {},
     "output_type": "execute_result"
    }
   ],
   "source": [
    "max_sen_len = max([len(x) for x in sents])\n",
    "max_sen_len"
   ]
  },
  {
   "cell_type": "code",
   "execution_count": 9,
   "metadata": {},
   "outputs": [],
   "source": [
    "with open('ids-sst-train-aug.pkl', 'rb') as f:\n",
    "        aug = pickle.load(f)\n"
   ]
  },
  {
   "cell_type": "code",
   "execution_count": 10,
   "metadata": {},
   "outputs": [
    {
     "data": {
      "text/plain": [
       "[(\"the rock is destined to be the 21st century 's new `` conan '' and that he 's going to make a splash even greater than arnold schwarzenegger , jean-claud van damme or steven segal .\",\n",
       "  3,\n",
       "  ['the rock is a sexy action hero',\n",
       "   'the rock is the new conan',\n",
       "   \"in the rock's case\",\n",
       "   \"it's hard to imagine anyone else in the role\"]),\n",
       " (\"the gorgeously elaborate continuation of `` the lord of the rings '' trilogy is so huge that a column of words can not adequately describe co-writer\\\\/director peter jackson 's expanded vision of j.r.r. tolkien 's middle-earth .\",\n",
       "  4,\n",
       "  ['the lord of the rings : the two towers is a saga of epic proportions',\n",
       "   'a grandiose and engrossing conclusion to the lord of the rings trilogy',\n",
       "   \"in the final installment of peter jackson's epic trilogy, the lord of the rings : the two towers reaches a climax that is as sweeping as it is harrowing\",\n",
       "   \"peter jackson's epic fantasy is a saga of epic proportions\"]),\n",
       " ('singer\\\\/composer bryan adams contributes a slew of songs -- a few potential hits , a few more simply intrusive to the story -- but the whole package certainly captures the intended , er , spirit of the piece .',\n",
       "  3,\n",
       "  [\"adams's songs are sung with gusto\",\n",
       "   \"bryan adams's music is sung with gusto\",\n",
       "   \"bryan adams and johnny depp's  the spirt of philadelphia, pt. 1.\",\n",
       "   \"with a little help from mr.. bryan,  spirit '' isn't just uplifting ; it carries u.s. audiences along on brisk jog\"]),\n",
       " (\"you 'd think by now america would have had enough of plucky british eccentrics with hearts of gold .\",\n",
       "  2,\n",
       "  [\"a slapstick comedy that's surprisingly touching\",\n",
       "   'in the end the film is a tad too sentimental for its own good',\n",
       "   \"'s a pity the film is so sluggish\",\n",
       "   \"a british romp that's surprisingly sappy\"]),\n",
       " ('yet the act is still charming here .',\n",
       "  3,\n",
       "  ['yet the act is still charming here',\n",
       "   'the act is still charming here',\n",
       "   'the premise is a little stale, but the actors are charming.',\n",
       "   \"this is the kind of movie that makes you want to go out and buy a ticket, even if you're not.\"]),\n",
       " (\"whether or not you 're enlightened by any of derrida 's lectures on `` the other '' and `` the self , '' derrida is an undeniably fascinating and playful fellow .\",\n",
       "  4,\n",
       "  ['derrida is a fascinating and playful fellow',\n",
       "   'derrida is an undeniably fascinating and playful fellow',\n",
       "   \"a fascinating portrait of heidegger's most enigmatic and elusive figure\",\n",
       "   'a witty and enlightening portrait of the elusive french philosopher']),\n",
       " ('just the labour involved in creating the layered richness of the imagery in this chiaroscuro of madness and light is astonishing .',\n",
       "  4,\n",
       "  ['the sheer amount of work involved in creating the layered richness of the imagery in this chiaroscuro of madness and light is astonishing',\n",
       "   'a dazzling, layered montage of madness and light',\n",
       "   \"this is a film that is so rich in imagery that it's almost hypnotic.\",\n",
       "   'the film is a kaleidoscope of dazzling images']),\n",
       " ('part of the charm of satin rouge is that it avoids the obvious with humour and lightness .',\n",
       "  3,\n",
       "  [\"satin rouge is a light and charming romantic comedy that's surprisingly witty and sly.\",\n",
       "   \"the film's charm is in its wit and humour.\",\n",
       "   'a sly, witty satire',\n",
       "   'with a light touch and witty dialogue']),\n",
       " (\"a screenplay more ingeniously constructed than `` memento ''\",\n",
       "  4,\n",
       "  [\"a screenplay more ingeniously constructed than  memento ''\",\n",
       "   'ingeniously constructed than memento',\n",
       "   'the screenplay is ingeniously constructed, and the film is a slick and engrossing thriller.',\n",
       "   \"is a shrewd, well-written thriller that's more ingeniously constructed than  memento.\"]),\n",
       " (\"`` extreme ops '' exceeds expectations .\",\n",
       "  3,\n",
       "  ['this is the kind of movie that makes you want to go to the theater and see it again and again.',\n",
       "   'extreme ops is an entertaining action flick that is a lot of fun to watch.',\n",
       "   \"it's a surprisingly good action flick\",\n",
       "   'a surprisingly good action flick'])]"
      ]
     },
     "execution_count": 10,
     "metadata": {},
     "output_type": "execute_result"
    }
   ],
   "source": [
    "aug"
   ]
  }
 ],
 "metadata": {
  "kernelspec": {
   "display_name": "cs224n-gpu",
   "language": "python",
   "name": "python3"
  },
  "language_info": {
   "codemirror_mode": {
    "name": "ipython",
    "version": 3
   },
   "file_extension": ".py",
   "mimetype": "text/x-python",
   "name": "python",
   "nbconvert_exporter": "python",
   "pygments_lexer": "ipython3",
   "version": "3.9.18"
  }
 },
 "nbformat": 4,
 "nbformat_minor": 2
}
